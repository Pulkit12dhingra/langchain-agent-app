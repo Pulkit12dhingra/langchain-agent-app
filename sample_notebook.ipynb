{
 "cells": [
  {
   "cell_type": "code",
   "execution_count": 1,
   "id": "18153e89",
   "metadata": {},
   "outputs": [
    {
     "name": "stdout",
     "output_type": "stream",
     "text": [
      "Addition: 5 + 3 = 8\n",
      "Subtraction: 5 - 3 = 2\n",
      "Multiplication: 5 * 3 = 15\n",
      "Division: 5 / 3 = 1.6666666666666667\n",
      "Integer Division: 5 // 3 = 1\n",
      "Modulus: 5 % 3 = 2\n",
      "Exponentiation: 5 ** 3 = 125\n"
     ]
    }
   ],
   "source": [
    "# this code provides information on how to do arithmetic operations in Python\n",
    "\n",
    "# addition\n",
    "a = 5\n",
    "b = 3\n",
    "c = a + b\n",
    "print(f\"Addition: {a} + {b} = {c}\")\n",
    "# subtraction\n",
    "d = a - b\n",
    "print(f\"Subtraction: {a} - {b} = {d}\")\n",
    "# multiplication\n",
    "e = a * b\n",
    "print(f\"Multiplication: {a} * {b} = {e}\")\n",
    "# division\n",
    "f = a / b\n",
    "print(f\"Division: {a} / {b} = {f}\")\n",
    "# integer division\n",
    "g = a // b\n",
    "print(f\"Integer Division: {a} // {b} = {g}\")\n",
    "# modulus\n",
    "h = a % b\n",
    "print(f\"Modulus: {a} % {b} = {h}\")\n",
    "# exponentiation\n",
    "i = a ** b  \n",
    "print(f\"Exponentiation: {a} ** {b} = {i}\")"
   ]
  },
  {
   "cell_type": "code",
   "execution_count": null,
   "id": "931ec417",
   "metadata": {},
   "outputs": [],
   "source": []
  }
 ],
 "metadata": {
  "kernelspec": {
   "display_name": "base",
   "language": "python",
   "name": "python3"
  },
  "language_info": {
   "codemirror_mode": {
    "name": "ipython",
    "version": 3
   },
   "file_extension": ".py",
   "mimetype": "text/x-python",
   "name": "python",
   "nbconvert_exporter": "python",
   "pygments_lexer": "ipython3",
   "version": "3.12.7"
  }
 },
 "nbformat": 4,
 "nbformat_minor": 5
}
